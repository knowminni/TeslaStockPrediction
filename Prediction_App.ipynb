{
  "nbformat": 4,
  "nbformat_minor": 0,
  "metadata": {
    "colab": {
      "name": "Prediction App.ipynb",
      "provenance": []
    },
    "kernelspec": {
      "name": "python3",
      "display_name": "Python 3"
    },
    "language_info": {
      "name": "python"
    }
  },
  "cells": [
    {
      "cell_type": "markdown",
      "metadata": {
        "id": "-OQnwnwQweI4"
      },
      "source": [
        "## ***1. Installing Libraries and Dependencies***"
      ]
    },
    {
      "cell_type": "code",
      "metadata": {
        "id": "Ao4bQQLDXC4l"
      },
      "source": [
        "import gradio as gr\n",
        "import joblib"
      ],
      "execution_count": 55,
      "outputs": []
    },
    {
      "cell_type": "markdown",
      "metadata": {
        "id": "ktSo3gPfXGCv"
      },
      "source": [
        "## ***2. Loading Model***"
      ]
    },
    {
      "cell_type": "code",
      "metadata": {
        "id": "3tI_ivPyXOAL"
      },
      "source": [
        "from google.colab import files\n",
        "files.upload()\n",
        "\n",
        "model = joblib.load('TeslaStock')"
      ],
      "execution_count": 25,
      "outputs": []
    },
    {
      "cell_type": "code",
      "metadata": {
        "colab": {
          "base_uri": "https://localhost:8080/"
        },
        "id": "vFK4NSBKxAZ7",
        "outputId": "06b987d1-e3ca-44ce-f2ec-1dab63944d50"
      },
      "source": [
        "print('Model Growth: ', model.growth)\n",
        "print('Model Parameters: \\n',model.params)"
      ],
      "execution_count": 53,
      "outputs": [
        {
          "output_type": "stream",
          "text": [
            "Model Growth:  linear\n",
            "Model Parameters: \n",
            " {'k': array([[0.69977806]]), 'm': array([[0.12216192]]), 'delta': array([[-2.02461763e-08,  2.28973033e-08,  7.09795740e-08,\n",
            "         1.07301594e-02,  5.91468372e-02,  1.67851399e-02,\n",
            "         1.29808738e-08, -2.66426685e-09,  1.52730748e-08,\n",
            "        -1.63248971e-08, -5.60237091e-08, -8.87236595e-02,\n",
            "        -1.01929788e-01, -1.04689886e-03, -5.70773008e-08,\n",
            "         1.95372048e-08,  2.41064825e-08,  5.70062657e-01,\n",
            "         7.38717073e-01,  1.71751137e-01,  1.97600922e-08,\n",
            "        -1.31416341e-09, -5.43620419e-09, -1.27091321e+00,\n",
            "        -1.84345522e+00]]), 'sigma_obs': array([[0.0448612]]), 'beta': array([[ 0.00116199, -0.00133252, -0.00261655, -0.00064307,  0.00043189,\n",
            "         0.00113969]]), 'trend': array([[0.12216192, 0.12985179, 0.13177425, 0.13369672, 0.13561919,\n",
            "        0.13754166, 0.14330906, 0.14523152, 0.14715399, 0.14907646,\n",
            "        0.15099893, 0.15676633, 0.15868879, 0.16061126, 0.16253373,\n",
            "        0.1644562 , 0.1702236 , 0.17214606, 0.17406853, 0.175991  ,\n",
            "        0.17791347, 0.18368087, 0.18560334, 0.1875258 , 0.18944827,\n",
            "        0.19137074, 0.19713814, 0.19906061, 0.20098307, 0.20290554,\n",
            "        0.20482801, 0.21251788, 0.21444035, 0.21639229, 0.21834424,\n",
            "        0.22420008, 0.22615202, 0.22810397, 0.23005591, 0.23200786,\n",
            "        0.2378637 , 0.23997813, 0.24209257, 0.24420701, 0.24632145,\n",
            "        0.25266476, 0.25477919, 0.25689363, 0.25900807, 0.26116862,\n",
            "        0.26765027, 0.26981082, 0.27197137, 0.27413192, 0.27629247,\n",
            "        0.28277412, 0.28493467, 0.28709522, 0.28925577, 0.29789797,\n",
            "        0.30005852, 0.30221907, 0.30437962, 0.30654017, 0.31302182,\n",
            "        0.31518237, 0.31734292, 0.31950347, 0.32166402, 0.32814568,\n",
            "        0.33030623, 0.33246678, 0.33462733, 0.33678788, 0.34326953,\n",
            "        0.34543008, 0.34759063, 0.34975118, 0.35191173, 0.35839338,\n",
            "        0.36055393, 0.36271448, 0.36487503, 0.36703558, 0.37351723,\n",
            "        0.37567778, 0.37783833, 0.37999888, 0.38215943, 0.38864108,\n",
            "        0.39080163, 0.39296218, 0.39512273, 0.39728328, 0.40376493,\n",
            "        0.40592548, 0.40808603, 0.41000284, 0.41191964, 0.41767005,\n",
            "        0.41958685, 0.42150366, 0.42342046, 0.42533727, 0.43188437,\n",
            "        0.43352115, 0.43515793, 0.4367947 , 0.44170503, 0.44334181,\n",
            "        0.44497859, 0.44661536, 0.44824927, 0.45315097, 0.45478487,\n",
            "        0.45641877, 0.45805267, 0.45968657, 0.46458827, 0.46622217,\n",
            "        0.46785607, 0.46948998, 0.47112388, 0.47602558, 0.47765948,\n",
            "        0.47929338, 0.48092728, 0.48256118, 0.48746288, 0.48909678,\n",
            "        0.49073068, 0.49236458, 0.49399848, 0.49890019, 0.50053409,\n",
            "        0.50216799, 0.50380189, 0.50543579, 0.51033749, 0.51197139,\n",
            "        0.51360529, 0.51523919, 0.51687309, 0.5217748 , 0.5249748 ,\n",
            "        0.52817481, 0.53137482, 0.53457482, 0.54417485, 0.54737485,\n",
            "        0.55057486, 0.55377487, 0.55900432, 0.57469266, 0.57992211,\n",
            "        0.58515156, 0.59038101, 0.59561046, 0.61129881, 0.61652826,\n",
            "        0.62222955, 0.63363214, 0.65073602, 0.65643731, 0.66213861,\n",
            "        0.6678399 , 0.67354119, 0.69064507, 0.69634636, 0.70204766,\n",
            "        0.70774895, 0.71345024, 0.73055412, 0.73625542, 0.74195671,\n",
            "        0.747658  , 0.7533593 , 0.77046318, 0.77616447, 0.78186576,\n",
            "        0.78756706, 0.81037223, 0.81607352, 0.82177482, 0.82747611,\n",
            "        0.85028128, 0.85598258, 0.86168387, 0.86738516, 0.87308646,\n",
            "        0.89019034, 0.89589163, 0.8981014 , 0.90031118, 0.90252095,\n",
            "        0.91136004, 0.91356982, 0.91577959, 0.91798936, 0.92461868,\n",
            "        0.92176402, 0.91890936, 0.91605469, 0.91320003, 0.90463604,\n",
            "        0.90178137, 0.89892671, 0.89607204, 0.89321738, 0.88465339,\n",
            "        0.88179872, 0.87894406, 0.8760894 , 0.87323473, 0.86181608,\n",
            "        0.85896141, 0.85610675, 0.85325209, 0.84468809, 0.84183343,\n",
            "        0.83897877, 0.8361241 , 0.83326944, 0.82470545, 0.82185078,\n",
            "        0.81899612, 0.81614145, 0.81328679, 0.8047228 , 0.80186813,\n",
            "        0.79901347, 0.79615881, 0.79330414, 0.78474015, 0.78188549,\n",
            "        0.77903082, 0.77617616, 0.77332149, 0.7647575 , 0.76190284,\n",
            "        0.75904818, 0.75619351, 0.75333885, 0.74477486, 0.74192019,\n",
            "        0.73906553, 0.73621086, 0.72479221, 0.72193754, 0.71908288,\n",
            "        0.71622822]])}\n"
          ],
          "name": "stdout"
        }
      ]
    },
    {
      "cell_type": "markdown",
      "metadata": {
        "id": "bFhofUNCyop-"
      },
      "source": [
        "## ***3. Stock Prediction***"
      ]
    },
    {
      "cell_type": "code",
      "metadata": {
        "id": "gp3paslExFP7"
      },
      "source": [
        "def predictStock(time):\n",
        "    predict = model.make_future_dataframe(periods = time)\n",
        "    forecast = model.predict(predict)\n",
        "\n",
        "    graph = model.plot(forecast, xlabel=\"Date\", ylabel=\"Price\")\n",
        "    return graph"
      ],
      "execution_count": 64,
      "outputs": []
    },
    {
      "cell_type": "markdown",
      "metadata": {
        "id": "uQwFIu2-0BD4"
      },
      "source": [
        "## ***Using Gradio to generate a web app, with required IO Fields and Characteristics***"
      ]
    },
    {
      "cell_type": "code",
      "metadata": {
        "id": "0ssKzL1Bynbk"
      },
      "source": [
        "duration = gr.inputs.Slider(minimum = 1, maximum = 365, step = 1, default = 30, label = 'Time Period of Prediction (in Days)')\n",
        "grx = gr.outputs.Image(type=\"auto\", labeled_segments=False, plot= True, label='Forecast Graph')\n",
        "\n",
        "irface = gr.Interface(fn = predictStock, inputs = duration, outputs = grx)"
      ],
      "execution_count": 62,
      "outputs": []
    },
    {
      "cell_type": "markdown",
      "metadata": {
        "id": "oB2_VOqG0PKj"
      },
      "source": [
        "## ***Launching Web App Instance, remains active for 24 hrs***"
      ]
    },
    {
      "cell_type": "code",
      "metadata": {
        "colab": {
          "base_uri": "https://localhost:8080/",
          "height": 677
        },
        "id": "TkKNJxMVz-NF",
        "outputId": "7b098cdf-60f7-4796-f6db-6c32b2dad6ed"
      },
      "source": [
        "irface.launch()"
      ],
      "execution_count": 63,
      "outputs": [
        {
          "output_type": "stream",
          "text": [
            "Colab notebook detected. To show errors in colab notebook, set `debug=True` in `launch()`\n",
            "This share link will expire in 24 hours. If you need a permanent link, visit: https://gradio.app/introducing-hosted (NEW!)\n"
          ],
          "name": "stdout"
        },
        {
          "output_type": "stream",
          "text": [
            "INFO:paramiko.transport:Connected (version 2.0, client OpenSSH_7.6p1)\n",
            "INFO:paramiko.transport:Authentication (publickey) successful!\n"
          ],
          "name": "stderr"
        },
        {
          "output_type": "stream",
          "text": [
            "Running on External URL: https://25788.gradio.app\n",
            "Interface loading below...\n"
          ],
          "name": "stdout"
        },
        {
          "output_type": "display_data",
          "data": {
            "text/html": [
              "\n",
              "        <iframe\n",
              "            width=\"1000\"\n",
              "            height=\"500\"\n",
              "            src=\"https://25788.gradio.app\"\n",
              "            frameborder=\"0\"\n",
              "            allowfullscreen\n",
              "        ></iframe>\n",
              "        "
            ],
            "text/plain": [
              "<IPython.lib.display.IFrame at 0x7fa5a63aab50>"
            ]
          },
          "metadata": {
            "tags": []
          }
        },
        {
          "output_type": "execute_result",
          "data": {
            "text/plain": [
              "(<Flask 'gradio.networking'>,\n",
              " 'http://127.0.0.1:7862/',\n",
              " 'https://25788.gradio.app')"
            ]
          },
          "metadata": {
            "tags": []
          },
          "execution_count": 63
        }
      ]
    }
  ]
}